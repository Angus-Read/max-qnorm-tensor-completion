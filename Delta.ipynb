{
 "cells": [
  {
   "cell_type": "code",
   "execution_count": 1,
   "metadata": {},
   "outputs": [],
   "source": [
    "#import jax.numpy as np\n",
    "#from jax import pmap\n",
    "import numpy as np\n",
    "from maxnorm.maxnorm_completion import *\n",
    "from maxnorm.tenalg import *\n",
    "from maxnorm.graphs import *\n",
    "import sparse\n",
    "from itertools import product\n",
    "import networkx as nx\n",
    "\n",
    "import warnings\n",
    "warnings.filterwarnings(\"ignore\", category=DeprecationWarning)\n",
    "\n",
    "%load_ext autoreload"
   ]
  },
  {
   "cell_type": "code",
   "execution_count": 2,
   "metadata": {},
   "outputs": [
    {
     "name": "stdout",
     "output_type": "stream",
     "text": [
      "n data: 1.60e+04\n",
      "n data ** t/2: 5.24e+05\n",
      "true norm: 1.00e+00\n"
     ]
    }
   ],
   "source": [
    "# create random, low-rank tensor\n",
    "t = 5\n",
    "n = 30\n",
    "r = 3\n",
    "max_iterations = 100\n",
    "epsilons = np.logspace(-4, 0, 5)\n",
    "epsilons = np.concatenate((np.array(0), epsilons), axis = None)\n",
    "#delta = 0.1\n",
    "const = 24\n",
    "sigma = 0.005\n",
    "ndata =  const * r * t * n * np.log10(n)\n",
    "U = kr_random(n, t, r, rvs='unif')\n",
    "U = kr_rescale(U, np.sqrt(n**t), 'hs')\n",
    "norm_true = np.sqrt(kr_dot(U, U) / n**t)\n",
    "#U = [np.random.randn(n, r) for i in range(t)]\n",
    "print(\"n data: %.2e\" % ndata)\n",
    "print(\"n data ** t/2: %.2e\" % int(const * r * n**(t/2) * np.log10(n)))\n",
    "print(\"true norm: %.2e\" % norm_true)"
   ]
  },
  {
   "cell_type": "code",
   "execution_count": 3,
   "metadata": {},
   "outputs": [
    {
     "name": "stdout",
     "output_type": "stream",
     "text": [
      "58.590081445867376\n",
      "15.588457268119896\n"
     ]
    }
   ],
   "source": [
    "qnorm_true = max_qnorm_ub(U)\n",
    "print(qnorm_true)\n",
    "print(r**(t/2))"
   ]
  },
  {
   "cell_type": "code",
   "execution_count": 4,
   "metadata": {},
   "outputs": [],
   "source": [
    "expander = nx.random_regular_graph(6, n)\n",
    "#expander = nx.chordal_cycle_graph(n)\n",
    "observation_mask = obs_mask_expander(expander, t)\n",
    "#observation_mask = obs_mask_iid(tuple([n for i in range(t)]), ndata * n**(-t))"
   ]
  },
  {
   "cell_type": "code",
   "execution_count": 5,
   "metadata": {},
   "outputs": [
    {
     "name": "stdout",
     "output_type": "stream",
     "text": [
      "38880\n",
      "15952.909550972354\n",
      "24300000\n",
      "1.6e-01%\n"
     ]
    }
   ],
   "source": [
    "from run_sweep_iid import generate_data\n",
    "\n",
    "\n",
    "data = generate_data(observation_mask, U, sigma)\n",
    "clean_data_rmse = np.sqrt(loss(U, data) / data.nnz)\n",
    "print(data.nnz)\n",
    "print(ndata)\n",
    "print(n**t)\n",
    "print(\"%0.1e%%\" % (float(data.nnz) / n**t * 100))"
   ]
  },
  {
   "cell_type": "code",
   "execution_count": 6,
   "metadata": {
    "scrolled": true
   },
   "outputs": [
    {
     "name": "stdout",
     "output_type": "stream",
     "text": [
      "fro:   [72.20668981939896, 72.20668981939899, 72.20668981939899, 72.20668981939899, 72.20668981939899]\n",
      "2-inf: [2.291713506684371, 2.3091916772236365, 2.0989896240905535, 2.335517972704103, 2.2533043604887495]\n"
     ]
    }
   ],
   "source": [
    "def print_factor_norms(U):\n",
    "    print(\"fro:   \" + str([np.linalg.norm(Ui,'fro')**2 for Ui in U]))\n",
    "    print(\"2-inf: \" + str([np.max(np.linalg.norm(Ui, axis=1)) for Ui in U]))\n",
    "\n",
    "print_factor_norms(kr_balance_factors(U))"
   ]
  },
  {
   "cell_type": "code",
   "execution_count": 7,
   "metadata": {},
   "outputs": [
    {
     "name": "stdout",
     "output_type": "stream",
     "text": [
      "rms of data:        0.004984\n",
      "delta parameter:    0.007500\n",
      "rmse of U true:     0.004984\n"
     ]
    }
   ],
   "source": [
    "delta = 1.5 * sigma\n",
    "#np.sqrt(np.sum((data.data - clean_data)**2)) * 2 / np.sqrt(data.nnz) * 1.5\n",
    "\n",
    "print(\"rms of data:        %f\" % clean_data_rmse)\n",
    "print(\"delta parameter:    %f\" % delta)\n",
    "print(\"rmse of U true:     %f\" % np.sqrt(loss(U, data) / data.nnz))"
   ]
  },
  {
   "cell_type": "code",
   "execution_count": 8,
   "metadata": {},
   "outputs": [],
   "source": [
    "#Uinit = kr_rescale(Unew1, np.sqrt(np.product(data.shape) * data.sum() ** 2 / data.nnz), 'hs')\n",
    "# Uinit = kr_balance_factors(Unew1)"
   ]
  },
  {
   "cell_type": "code",
   "execution_count": 10,
   "metadata": {
    "scrolled": true
   },
   "outputs": [
    {
     "name": "stdout",
     "output_type": "stream",
     "text": [
      "[1.e-06 1.e-05 1.e-04 1.e-03]\n",
      "0.005\n",
      "delta =  1e-06\n",
      "Initial cost: 1.963e+06\n",
      "Initial qnorm_ub: 9.295e+03\n",
      "|| r || = 1.003e+00, delta = 1.000e-06\n",
      "Initial MSE : 1.000e+00\n",
      "\n",
      "=============================\n",
      "Iteration 0 complete\n",
      "|| resid || = 4.255e-01\n",
      "Cost : 5.007e+05\n",
      "MSE : 1.026e+00\n",
      "=============================\n",
      "\n",
      "\n",
      "=============================\n",
      "Iteration 10 complete\n",
      "|| resid || = 5.299e-02\n",
      "Cost : 5.086e+04\n",
      "MSE : 8.802e-01\n",
      "=============================\n",
      "\n",
      "Caught KeyboardInterrupt, exiting early\n",
      "\n",
      "finished in 11 iterations\n",
      "\n",
      "\n",
      "scaled || r || = 5.299e-02, delta = 1.000e-06\n",
      "Max-qnorm upper bound: 4.540e+04\n",
      "Cost function: 5.086e+04\n",
      "MSE : 8.802e-01\n"
     ]
    },
    {
     "ename": "NameError",
     "evalue": "name 'ge_arr_list' is not defined",
     "output_type": "error",
     "traceback": [
      "\u001b[1;31m---------------------------------------------------------------------------\u001b[0m",
      "\u001b[1;31mNameError\u001b[0m                                 Traceback (most recent call last)",
      "\u001b[1;32m~\\AppData\\Local\\Temp/ipykernel_16080/930055756.py\u001b[0m in \u001b[0;36m<module>\u001b[1;34m\u001b[0m\n\u001b[0;32m     18\u001b[0m     \u001b[0mUnew2_list\u001b[0m\u001b[1;33m.\u001b[0m\u001b[0mappend\u001b[0m\u001b[1;33m(\u001b[0m\u001b[0mUnew2\u001b[0m\u001b[1;33m)\u001b[0m\u001b[1;33m\u001b[0m\u001b[1;33m\u001b[0m\u001b[0m\n\u001b[0;32m     19\u001b[0m     \u001b[0mcost_arr_list\u001b[0m\u001b[1;33m.\u001b[0m\u001b[0mappend\u001b[0m\u001b[1;33m(\u001b[0m\u001b[0mcost_arr2\u001b[0m\u001b[1;33m)\u001b[0m\u001b[1;33m\u001b[0m\u001b[1;33m\u001b[0m\u001b[0m\n\u001b[1;32m---> 20\u001b[1;33m     \u001b[0mge_arr_list\u001b[0m\u001b[1;33m.\u001b[0m\u001b[0mappend\u001b[0m\u001b[1;33m(\u001b[0m\u001b[0mge_arr2\u001b[0m\u001b[1;33m)\u001b[0m\u001b[1;33m\u001b[0m\u001b[1;33m\u001b[0m\u001b[0m\n\u001b[0m\u001b[0;32m     21\u001b[0m     \u001b[0mge_arr_mse_list\u001b[0m\u001b[1;33m.\u001b[0m\u001b[0mappend\u001b[0m\u001b[1;33m(\u001b[0m\u001b[0mge_mse_arr2\u001b[0m\u001b[1;33m)\u001b[0m\u001b[1;33m\u001b[0m\u001b[1;33m\u001b[0m\u001b[0m\n",
      "\u001b[1;31mNameError\u001b[0m: name 'ge_arr_list' is not defined"
     ]
    }
   ],
   "source": [
    "%autoreload\n",
    "Unew2_list = []\n",
    "cost_arr_list = []\n",
    "deltas = np.logspace(-6, -3, 4)\n",
    "eps = 1e-4\n",
    "iterations = 300\n",
    "print(deltas)\n",
    "print(sigma)\n",
    "# sigma = deltas[-1] * np.sqrt(data.nnz)\n",
    "for delta in deltas:\n",
    "    print(\"delta = \", delta)\n",
    "    Unew2, cost_arr2, ge_arr2, ge_mse_arr2 = tensor_completion_maxnorm(U, data, 4 * r**t, delta * np.sqrt(data.nnz), epsilon=eps,\n",
    "                                                init='svdrand',\n",
    "                                                kappa=100, beta=1, \n",
    "                                                tol=1e-10, inner_tol=1e-12, max_iter=iterations, inner_max_iter=10, \n",
    "                                                verbosity=1, inner_line_iter=40,\n",
    "                                                rebalance=True)\n",
    "    Unew2_list.append(Unew2)\n",
    "    cost_arr_list.append(cost_arr2)\n",
    "    ge_arr_list.append(ge_arr2)\n",
    "    ge_arr_mse_list.append(ge_mse_arr2)"
   ]
  },
  {
   "cell_type": "code",
   "execution_count": null,
   "metadata": {},
   "outputs": [],
   "source": [
    "import matplotlib.pyplot as plt\n",
    "\n",
    "plt.semilogy(cost_arr_list[0])\n",
    "plt.semilogy(cost_arr_list[1])\n",
    "plt.semilogy(cost_arr_list[2])\n",
    "plt.semilogy(cost_arr_list[3])\n",
    "# plt.semilogy(cost_arr_list[4])\n",
    "# plt.semilogy(cost_arr_list[5])\n",
    "\n",
    "plt.legend([\"delta = 1e-6\", \"delta = 1e-5\", \"delta = 1e-4\", \"delta = 1e-3\"])\n",
    "plt.xlabel('iterate')\n",
    "plt.ylabel('cost')\n",
    "plt.title(\"GE-Curve for Various Delta Values\")\n",
    "plt.savefig('images/GE-Curve-Delta_300.png')"
   ]
  },
  {
   "cell_type": "markdown",
   "metadata": {},
   "source": [
    "## Generalization error"
   ]
  },
  {
   "cell_type": "code",
   "execution_count": null,
   "metadata": {},
   "outputs": [],
   "source": [
    "def gen_err(Upred, Utrue):\n",
    "    norm_true = kr_dot(Utrue, Utrue)\n",
    "    mse_gen = kr_dot(Upred, Upred) + norm_true - 2 * kr_dot(Upred, Utrue)\n",
    "    return np.sqrt(mse_gen / norm_true)\n",
    "\n",
    "def mse_gen_err(Upred, Utrue):\n",
    "    norm_true = kr_dot(Utrue, Utrue)\n",
    "    mse_gen = kr_dot(Upred, Upred) + norm_true - 2 * kr_dot(Upred, Utrue)\n",
    "    return np.sqrt(mse_gen / Upred[0].shape[0] ** len(Upred))\n",
    "\n",
    "\n",
    "for i in range(len(Unew2_list)):\n",
    "    print(\"delta = {}\".format(deltas[i]))\n",
    "    print(\"relative RMSE max:      %1.4e\" % gen_err(Unew2_list[i], U))\n",
    "    print(\"MSE max:                %1.4e\\n\" % mse_gen_err(Unew2_list[i], U))"
   ]
  },
  {
   "cell_type": "code",
   "execution_count": null,
   "metadata": {},
   "outputs": [],
   "source": [
    "from mpl_toolkits.axes_grid1 import make_axes_locatable\n",
    "\n",
    "fig, axs = plt.subplots(1,t, figsize=(6, 20))\n",
    "for i in range(t):\n",
    "    im = axs[i].imshow(Unew2[i])\n",
    "    divider = make_axes_locatable(axs[i])\n",
    "    cax = divider.append_axes('right', size='5%', pad=0.05)\n",
    "    fig.colorbar(im, cax=cax, orientation='vertical')\n",
    "    if i > 0:\n",
    "        axs[i].set_yticks([])"
   ]
  },
  {
   "cell_type": "code",
   "execution_count": null,
   "metadata": {},
   "outputs": [],
   "source": [
    "from mpl_toolkits.axes_grid1 import make_axes_locatable\n",
    "\n",
    "fig, axs = plt.subplots(1,t, figsize=(6, 20))\n",
    "for i in range(t):\n",
    "    im = axs[i].imshow(U[i])\n",
    "    divider = make_axes_locatable(axs[i])\n",
    "    cax = divider.append_axes('right', size='5%', pad=0.05)\n",
    "    fig.colorbar(im, cax=cax, orientation='vertical')\n",
    "    if i > 0:\n",
    "        axs[i].set_yticks([])"
   ]
  },
  {
   "cell_type": "code",
   "execution_count": null,
   "metadata": {},
   "outputs": [],
   "source": []
  },
  {
   "cell_type": "code",
   "execution_count": null,
   "metadata": {},
   "outputs": [],
   "source": []
  }
 ],
 "metadata": {
  "kernelspec": {
   "display_name": "Python 3 (ipykernel)",
   "language": "python",
   "name": "python3"
  },
  "language_info": {
   "codemirror_mode": {
    "name": "ipython",
    "version": 3
   },
   "file_extension": ".py",
   "mimetype": "text/x-python",
   "name": "python",
   "nbconvert_exporter": "python",
   "pygments_lexer": "ipython3",
   "version": "3.9.7"
  }
 },
 "nbformat": 4,
 "nbformat_minor": 4
}
