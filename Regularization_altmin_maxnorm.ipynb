{
 "cells": [
  {
   "cell_type": "code",
   "execution_count": 1,
   "metadata": {},
   "outputs": [
    {
     "name": "stderr",
     "output_type": "stream",
     "text": [
      "C:\\Users\\AARea\\Documents\\IMPORTANT DOCS\\SCHOOL\\Graduate\\CSCI 692\\max-qnorm-tensor-completion\\maxnorm\\maxnorm_completion.py:128: SyntaxWarning: \"is not\" with a literal. Did you mean \"!=\"?\n",
      "  if init is not 'alt_min':\n"
     ]
    }
   ],
   "source": [
    "#import jax.numpy as np\n",
    "#from jax import pmap\n",
    "import numpy as np\n",
    "from maxnorm.maxnorm_completion import *\n",
    "from maxnorm.tenalg import *\n",
    "from maxnorm.graphs import *\n",
    "import sparse\n",
    "from itertools import product\n",
    "import networkx as nx\n",
    "\n",
    "import warnings\n",
    "warnings.filterwarnings(\"ignore\", category=DeprecationWarning)\n",
    "\n",
    "%load_ext autoreload"
   ]
  },
  {
   "cell_type": "code",
   "execution_count": 2,
   "metadata": {},
   "outputs": [
    {
     "name": "stdout",
     "output_type": "stream",
     "text": [
      "n data: 1.60e+04\n",
      "n data ** t/2: 5.24e+05\n",
      "true norm: 1.00e+00\n"
     ]
    }
   ],
   "source": [
    "# create random, low-rank tensor\n",
    "t = 5\n",
    "n = 30\n",
    "r = 3\n",
    "max_iterations = 100\n",
    "epsilons = np.logspace(-4, -2, 3)\n",
    "#delta = 0.1\n",
    "const = 24\n",
    "sigma = 0.005\n",
    "ndata =  const * r * t * n * np.log10(n)\n",
    "U = kr_random(n, t, r, rvs='unif')\n",
    "U = kr_rescale(U, np.sqrt(n**t), 'hs')\n",
    "norm_true = np.sqrt(kr_dot(U, U) / n**t)\n",
    "#U = [np.random.randn(n, r) for i in range(t)]\n",
    "print(\"n data: %.2e\" % ndata)\n",
    "print(\"n data ** t/2: %.2e\" % int(const * r * n**(t/2) * np.log10(n)))\n",
    "print(\"true norm: %.2e\" % norm_true)"
   ]
  },
  {
   "cell_type": "code",
   "execution_count": 3,
   "metadata": {},
   "outputs": [
    {
     "name": "stdout",
     "output_type": "stream",
     "text": [
      "49.287215069636915\n",
      "15.588457268119896\n"
     ]
    }
   ],
   "source": [
    "qnorm_true = max_qnorm_ub(U)\n",
    "print(qnorm_true)\n",
    "print(r**(t/2))"
   ]
  },
  {
   "cell_type": "code",
   "execution_count": 4,
   "metadata": {},
   "outputs": [],
   "source": [
    "expander = nx.random_regular_graph(6, n)\n",
    "#expander = nx.chordal_cycle_graph(n)\n",
    "observation_mask = obs_mask_expander(expander, t)\n",
    "#observation_mask = obs_mask_iid(tuple([n for i in range(t)]), ndata * n**(-t))"
   ]
  },
  {
   "cell_type": "code",
   "execution_count": 5,
   "metadata": {},
   "outputs": [
    {
     "name": "stdout",
     "output_type": "stream",
     "text": [
      "38880\n",
      "15952.909550972354\n",
      "24300000\n",
      "1.6e-01%\n"
     ]
    }
   ],
   "source": [
    "from run_sweep_iid import generate_data\n",
    "\n",
    "\n",
    "data = generate_data(observation_mask, U, sigma)\n",
    "clean_data_rmse = np.sqrt(loss(U, data) / data.nnz)\n",
    "print(data.nnz)\n",
    "print(ndata)\n",
    "print(n**t)\n",
    "print(\"%0.1e%%\" % (float(data.nnz) / n**t * 100))\n"
   ]
  },
  {
   "cell_type": "code",
   "execution_count": 6,
   "metadata": {
    "scrolled": true
   },
   "outputs": [
    {
     "name": "stdout",
     "output_type": "stream",
     "text": [
      "fro:   [71.55638179995681, 71.55638179995684, 71.55638179995684, 71.55638179995684, 71.55638179995684]\n",
      "2-inf: [2.1304429129728693, 2.3141408844127622, 2.201350296016889, 2.110888982182307, 2.1844219464981176]\n"
     ]
    }
   ],
   "source": [
    "def print_factor_norms(U):\n",
    "    print(\"fro:   \" + str([np.linalg.norm(Ui,'fro')**2 for Ui in U]))\n",
    "    print(\"2-inf: \" + str([np.max(np.linalg.norm(Ui, axis=1)) for Ui in U]))\n",
    "\n",
    "print_factor_norms(kr_balance_factors(U))"
   ]
  },
  {
   "cell_type": "code",
   "execution_count": 7,
   "metadata": {},
   "outputs": [
    {
     "name": "stdout",
     "output_type": "stream",
     "text": [
      "rms of data:        0.005003\n",
      "delta parameter:    0.007500\n",
      "rmse of U true:     0.005003\n"
     ]
    }
   ],
   "source": [
    "delta = 1.5 * sigma\n",
    "#np.sqrt(np.sum((data.data - clean_data)**2)) * 2 / np.sqrt(data.nnz) * 1.5\n",
    "\n",
    "print(\"rms of data:        %f\" % clean_data_rmse)\n",
    "print(\"delta parameter:    %f\" % delta)\n",
    "print(\"rmse of U true:     %f\" % np.sqrt(loss(U, data) / data.nnz))"
   ]
  },
  {
   "cell_type": "code",
   "execution_count": null,
   "metadata": {
    "scrolled": true
   },
   "outputs": [
    {
     "name": "stdout",
     "output_type": "stream",
     "text": [
      "[0.0001 0.001  0.01  ]\n",
      "eps =  0.0001\n",
      "Initial cost: 1.993e+04\n",
      "Initial qnorm_ub: 1.768e+03\n",
      "|| r || = 1.012e+00\n",
      "Initial MSE : 1.000e+00\n",
      "\n",
      "=============================\n",
      "Iteration 0 complete\n",
      "|| resid || = 2.237e-01\n",
      "Cost : 1.600e+03\n",
      "MSE : 1.413e+00\n",
      "=============================\n",
      "\n",
      "\n",
      "=============================\n",
      "Iteration 10 complete\n",
      "|| resid || = 1.917e-02\n",
      "Cost : 2.488e+02\n",
      "MSE : 1.248e+00\n",
      "=============================\n",
      "\n",
      "\n",
      "=============================\n",
      "Iteration 20 complete\n",
      "|| resid || = 1.166e-02\n",
      "Cost : 1.799e+02\n",
      "MSE : 1.235e+00\n",
      "=============================\n",
      "\n",
      "\n",
      "=============================\n",
      "Iteration 30 complete\n",
      "|| resid || = 8.619e-03\n",
      "Cost : 1.452e+02\n",
      "MSE : 1.231e+00\n",
      "=============================\n",
      "\n",
      "\n",
      "=============================\n",
      "Iteration 40 complete\n",
      "|| resid || = 6.902e-03\n",
      "Cost : 1.231e+02\n",
      "MSE : 1.229e+00\n",
      "=============================\n",
      "\n",
      "\n",
      "=============================\n",
      "Iteration 50 complete\n",
      "|| resid || = 5.792e-03\n",
      "Cost : 1.074e+02\n",
      "MSE : 1.227e+00\n",
      "=============================\n",
      "\n",
      "\n",
      "=============================\n",
      "Iteration 60 complete\n",
      "|| resid || = 4.884e-03\n",
      "Cost : 9.546e+01\n",
      "MSE : 1.227e+00\n",
      "=============================\n",
      "\n",
      "\n",
      "=============================\n",
      "Iteration 70 complete\n",
      "|| resid || = 4.258e-03\n",
      "Cost : 8.607e+01\n",
      "MSE : 1.227e+00\n",
      "=============================\n",
      "\n",
      "\n",
      "=============================\n",
      "Iteration 80 complete\n",
      "|| resid || = 3.741e-03\n",
      "Cost : 7.846e+01\n",
      "MSE : 1.227e+00\n",
      "=============================\n",
      "\n",
      "\n",
      "=============================\n",
      "Iteration 90 complete\n",
      "|| resid || = 3.350e-03\n",
      "Cost : 7.217e+01\n",
      "MSE : 1.228e+00\n",
      "=============================\n",
      "\n",
      "\n",
      "=============================\n",
      "Iteration 100 complete\n",
      "|| resid || = 3.026e-03\n",
      "Cost : 6.686e+01\n",
      "MSE : 1.228e+00\n",
      "=============================\n",
      "\n",
      "\n",
      "=============================\n",
      "Iteration 110 complete\n",
      "|| resid || = 2.762e-03\n",
      "Cost : 6.231e+01\n",
      "MSE : 1.229e+00\n",
      "=============================\n",
      "\n",
      "\n",
      "=============================\n",
      "Iteration 120 complete\n",
      "|| resid || = 2.516e-03\n",
      "Cost : 5.836e+01\n",
      "MSE : 1.229e+00\n",
      "=============================\n",
      "\n",
      "\n",
      "=============================\n",
      "Iteration 130 complete\n",
      "|| resid || = 2.333e-03\n",
      "Cost : 5.491e+01\n",
      "MSE : 1.230e+00\n",
      "=============================\n",
      "\n",
      "\n",
      "=============================\n",
      "Iteration 140 complete\n",
      "|| resid || = 2.151e-03\n",
      "Cost : 5.186e+01\n",
      "MSE : 1.230e+00\n",
      "=============================\n",
      "\n",
      "\n",
      "=============================\n",
      "Iteration 150 complete\n",
      "|| resid || = 2.019e-03\n",
      "Cost : 4.915e+01\n",
      "MSE : 1.230e+00\n",
      "=============================\n",
      "\n",
      "\n",
      "=============================\n",
      "Iteration 160 complete\n",
      "|| resid || = 1.889e-03\n",
      "Cost : 4.672e+01\n",
      "MSE : 1.231e+00\n",
      "=============================\n",
      "\n",
      "\n",
      "=============================\n",
      "Iteration 170 complete\n",
      "|| resid || = 1.764e-03\n",
      "Cost : 4.452e+01\n",
      "MSE : 1.231e+00\n",
      "=============================\n",
      "\n",
      "\n",
      "=============================\n",
      "Iteration 180 complete\n",
      "|| resid || = 1.665e-03\n",
      "Cost : 4.253e+01\n",
      "MSE : 1.231e+00\n",
      "=============================\n",
      "\n",
      "\n",
      "=============================\n",
      "Iteration 190 complete\n",
      "|| resid || = 1.561e-03\n",
      "Cost : 4.072e+01\n",
      "MSE : 1.231e+00\n",
      "=============================\n",
      "\n",
      "\n",
      "=============================\n",
      "Iteration 200 complete\n",
      "|| resid || = 1.497e-03\n",
      "Cost : 3.907e+01\n",
      "MSE : 1.231e+00\n",
      "=============================\n",
      "\n"
     ]
    }
   ],
   "source": [
    "%autoreload\n",
    "Unew2_list = []\n",
    "Unew1_list = []\n",
    "cost_arr_list = []\n",
    "cost_arr_list_min = []\n",
    "ge_arr_list = []\n",
    "ge_arr_list_min = []\n",
    "ge_arr_mse_list = []\n",
    "ge_arr_mse_list_min = []\n",
    "\n",
    "\n",
    "delta = 0.1      \n",
    "iterations = 300\n",
    "print(epsilons)\n",
    "for eps in epsilons:\n",
    "    print(\"eps = \", eps)\n",
    "    Unew1, cost_arr1, ge_arr1, ge_mse_arr1 = tensor_completion_alt_min(U, data, 2 * r**t,\n",
    "#                                             sgd=True, sgd_batch_size=2000,\n",
    "                                            #U0 = Unew2,\n",
    "                                            epsilon = eps,\n",
    "                                            init='svdrand', \n",
    "                                            tol=1e-10, max_iter=iterations, verbosity=1)\n",
    "    Unew1_list.append(Unew1)\n",
    "    cost_arr_list_min.append(cost_arr1)\n",
    "    ge_arr_list_min.append(ge_arr1)\n",
    "    ge_arr_mse_list_min.append(ge_mse_arr1)\n",
    "    \n",
    "    Unew2, cost_arr2, ge_arr2, ge_mse_arr2 = tensor_completion_maxnorm(U, data, 4 * r**t, delta * np.sqrt(data.nnz), epsilon=eps,\n",
    "#                                                 sgd=True, sgd_batch_size=2000,\n",
    "                                                #U0 = kr_balance_factors(Unew1),\n",
    "                                                init='svdrand',\n",
    "                                                kappa=100, beta=1, \n",
    "                                                tol=1e-10, inner_tol=1e-12, max_iter=iterations, inner_max_iter=10, \n",
    "                                                verbosity=1, inner_line_iter=40,\n",
    "                                                rebalance=True)\n",
    "    Unew2_list.append(Unew2)\n",
    "    cost_arr_list.append(cost_arr2)\n",
    "    ge_arr_list.append(ge_arr2)\n",
    "    ge_arr_mse_list.append(ge_mse_arr2)"
   ]
  },
  {
   "cell_type": "code",
   "execution_count": null,
   "metadata": {},
   "outputs": [],
   "source": [
    "for i in range(len(Unew2_list)):\n",
    "    print(\"eps = {}\".format(epsilons[i]))\n",
    "    print(\"loss of U true:     %.3e\" % np.sqrt(loss(U, data) / data.nnz))\n",
    "    print(\"loss of U maxqnorm:      %.3e\" % np.sqrt(loss(Unew2_list[i], data) / data.nnz))    \n",
    "    print(\"loss of U altmin:      %.3e\\n\" % np.sqrt(loss(Unew1_list[i], data) / data.nnz))"
   ]
  },
  {
   "cell_type": "code",
   "execution_count": null,
   "metadata": {
    "scrolled": true
   },
   "outputs": [],
   "source": [
    "import matplotlib.pyplot as plt\n",
    "\n",
    "plt.semilogy(ge_arr_list_min[0])\n",
    "plt.semilogy(ge_arr_list_min[1])\n",
    "plt.semilogy(ge_arr_list_min[2])\n",
    "plt.semilogy(ge_arr_list[0])\n",
    "plt.semilogy(ge_arr_list[1])\n",
    "plt.semilogy(ge_arr_list[2])\n",
    "\n",
    "plt.legend([\"eps = 1e-4, alt_min\", \"eps = 1e-3, alt_min\", \"eps = 1e-2,alt_min\", \"eps = 1e-4, maxqnorm\", \"eps = 1e-3, maxqnorm\", \"eps = 1e-2,maxqnorm\"])\n",
    "plt.xlabel('iterate')\n",
    "plt.ylabel('gen_err')\n",
    "plt.title(\"GE-Curve for regularization terms\")\n",
    "plt.savefig('images/GE-Curve_epsilon.png')"
   ]
  },
  {
   "cell_type": "code",
   "execution_count": 12,
   "metadata": {},
   "outputs": [
    {
     "data": {
      "text/plain": [
       "Text(0.5, 1.0, 'Cost-Curve for maxqnorm regularization terms')"
      ]
     },
     "execution_count": 12,
     "metadata": {},
     "output_type": "execute_result"
    },
    {
     "data": {
      "image/png": "[encoded data removed]",
      "text/plain": [
       "<Figure size 432x288 with 1 Axes>"
      ]
     },
     "metadata": {
      "needs_background": "light"
     },
     "output_type": "display_data"
    }
   ],
   "source": [
    "import matplotlib.pyplot as plt\n",
    "\n",
    "plt.semilogy(cost_arr_list[0])\n",
    "plt.semilogy(cost_arr_list[1])\n",
    "plt.semilogy(cost_arr_list[2])\n",
    "\n",
    "plt.legend([\"eps = 1e-4\", \"eps = 1e-3\", \"eps = 1e-2\"])\n",
    "plt.xlabel('iterate')\n",
    "plt.ylabel('cost')\n",
    "plt.title(\"Cost-Curve for maxqnorm regularization terms\")\n",
    "# plt.savefig('Cost-Curve_epsilon_maxqnorm.png')"
   ]
  },
  {
   "cell_type": "code",
   "execution_count": 13,
   "metadata": {},
   "outputs": [
    {
     "data": {
      "text/plain": [
       "Text(0.5, 1.0, 'Cost-Curve for altmin regularization terms')"
      ]
     },
     "execution_count": 13,
     "metadata": {},
     "output_type": "execute_result"
    },
    {
     "data": {
      "image/png": "[encoded data removed]",
      "text/plain": [
       "<Figure size 432x288 with 1 Axes>"
      ]
     },
     "metadata": {
      "needs_background": "light"
     },
     "output_type": "display_data"
    }
   ],
   "source": [
    "import matplotlib.pyplot as plt\n",
    "\n",
    "plt.semilogy(cost_arr_list_min[0])\n",
    "plt.semilogy(cost_arr_list_min[1])\n",
    "plt.semilogy(cost_arr_list_min[2])\n",
    "\n",
    "plt.legend([\"eps = 1e-4\", \"eps = 1e-3\", \"eps = 1e-2\"])\n",
    "plt.xlabel('iterate')\n",
    "plt.ylabel('cost')\n",
    "plt.title(\"Cost-Curve for altmin regularization terms\")\n",
    "# plt.savefig('Cost-Curve_epsilon_altmin.png')"
   ]
  },
  {
   "cell_type": "markdown",
   "metadata": {},
   "source": [
    "## Generalization error"
   ]
  },
  {
   "cell_type": "code",
   "execution_count": 35,
   "metadata": {},
   "outputs": [
    {
     "name": "stdout",
     "output_type": "stream",
     "text": [
      "eps = 0.0\n",
      "relative RMSE max:      2.8930e-02\n",
      "MSE max:                2.8930e-02\n",
      "\n",
      "eps = 0.0001\n",
      "relative RMSE max:      2.8931e-02\n",
      "MSE max:                2.8931e-02\n",
      "\n",
      "eps = 0.001\n",
      "relative RMSE max:      2.8940e-02\n",
      "MSE max:                2.8940e-02\n",
      "\n",
      "eps = 0.01\n",
      "relative RMSE max:      2.9076e-02\n",
      "MSE max:                2.9076e-02\n",
      "\n",
      "eps = 0.1\n",
      "relative RMSE max:      3.0496e-02\n",
      "MSE max:                3.0496e-02\n",
      "\n",
      "eps = 1.0\n",
      "relative RMSE max:      3.6626e-02\n",
      "MSE max:                3.6626e-02\n",
      "\n"
     ]
    }
   ],
   "source": [
    "# def gen_err(Upred, Utrue):\n",
    "#     norm_true = kr_dot(Utrue, Utrue)\n",
    "#     mse_gen = kr_dot(Upred, Upred) + norm_true - 2 * kr_dot(Upred, Utrue)\n",
    "#     return np.sqrt(mse_gen / norm_true)\n",
    "\n",
    "# def mse_gen_err(Upred, Utrue):\n",
    "#     norm_true = kr_dot(Utrue, Utrue)\n",
    "#     mse_gen = kr_dot(Upred, Upred) + norm_true - 2 * kr_dot(Upred, Utrue)\n",
    "#     return np.sqrt(mse_gen / Upred[0].shape[0] ** len(Upred))\n",
    "\n",
    "\n",
    "# for i in range(len(Unew2_list)):\n",
    "#     print(\"eps = {}\".format(epsilons[i]))\n",
    "#     print(\"relative RMSE max:      %1.4e\" % gen_err(Unew2_list[i], U))\n",
    "#     print(\"MSE max:                %1.4e\\n\" % mse_gen_err(Unew2_list[i], U))"
   ]
  },
  {
   "cell_type": "code",
   "execution_count": 18,
   "metadata": {},
   "outputs": [
    {
     "data": {
      "image/png": "[encoded data removed]",
      "text/plain": [
       "<Figure size 432x1440 with 10 Axes>"
      ]
     },
     "metadata": {
      "needs_background": "light"
     },
     "output_type": "display_data"
    }
   ],
   "source": [
    "# from mpl_toolkits.axes_grid1 import make_axes_locatable\n",
    "\n",
    "# fig, axs = plt.subplots(1,t, figsize=(6, 20))\n",
    "# # for i in range(t):\n",
    "#     im = axs[i].imshow(Unew2[i])\n",
    "#     divider = make_axes_locatable(axs[i])\n",
    "#     cax = divider.append_axes('right', size='5%', pad=0.05)\n",
    "#     fig.colorbar(im, cax=cax, orientation='vertical')\n",
    "#     if i > 0:\n",
    "#         axs[i].set_yticks([])"
   ]
  },
  {
   "cell_type": "code",
   "execution_count": 19,
   "metadata": {},
   "outputs": [
    {
     "data": {
      "image/png": "[encoded data removed]",
      "text/plain": [
       "<Figure size 432x1440 with 10 Axes>"
      ]
     },
     "metadata": {
      "needs_background": "light"
     },
     "output_type": "display_data"
    }
   ],
   "source": [
    "# from mpl_toolkits.axes_grid1 import make_axes_locatable\n",
    "\n",
    "# fig, axs = plt.subplots(1,t, figsize=(6, 20))\n",
    "# for i in range(t):\n",
    "#     im = axs[i].imshow(U[i])\n",
    "#     divider = make_axes_locatable(axs[i])\n",
    "#     cax = divider.append_axes('right', size='5%', pad=0.05)\n",
    "#     fig.colorbar(im, cax=cax, orientation='vertical')\n",
    "#     if i > 0:\n",
    "#         axs[i].set_yticks([])"
   ]
  },
  {
   "cell_type": "code",
   "execution_count": null,
   "metadata": {},
   "outputs": [],
   "source": []
  },
  {
   "cell_type": "code",
   "execution_count": null,
   "metadata": {},
   "outputs": [],
   "source": []
  }
 ],
 "metadata": {
  "kernelspec": {
   "display_name": "Python 3 (ipykernel)",
   "language": "python",
   "name": "python3"
  },
  "language_info": {
   "codemirror_mode": {
    "name": "ipython",
    "version": 3
   },
   "file_extension": ".py",
   "mimetype": "text/x-python",
   "name": "python",
   "nbconvert_exporter": "python",
   "pygments_lexer": "ipython3",
   "version": "3.9.7"
  }
 },
 "nbformat": 4,
 "nbformat_minor": 4
}
