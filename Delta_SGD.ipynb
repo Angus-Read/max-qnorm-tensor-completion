{
 "cells": [
  {
   "cell_type": "code",
   "execution_count": 39,
   "metadata": {},
   "outputs": [
    {
     "name": "stdout",
     "output_type": "stream",
     "text": [
      "The autoreload extension is already loaded. To reload it, use:\n",
      "  %reload_ext autoreload\n"
     ]
    }
   ],
   "source": [
    "#import jax.numpy as np\n",
    "#from jax import pmap\n",
    "import numpy as np\n",
    "from maxnorm.maxnorm_completion import *\n",
    "from maxnorm.tenalg import *\n",
    "from maxnorm.graphs import *\n",
    "import sparse\n",
    "from itertools import product\n",
    "import networkx as nx\n",
    "\n",
    "import warnings\n",
    "warnings.filterwarnings(\"ignore\", category=DeprecationWarning)\n",
    "\n",
    "%load_ext autoreload"
   ]
  },
  {
   "cell_type": "code",
   "execution_count": 40,
   "metadata": {},
   "outputs": [
    {
     "name": "stdout",
     "output_type": "stream",
     "text": [
      "n data: 1.60e+04\n",
      "n data ** t/2: 5.24e+05\n",
      "true norm: 1.00e+00\n"
     ]
    }
   ],
   "source": [
    "# create random, low-rank tensor\n",
    "t = 5\n",
    "n = 30\n",
    "r = 3\n",
    "max_iterations = 100\n",
    "epsilons = np.logspace(-4, 0, 5)\n",
    "epsilons = np.concatenate((np.array(0), epsilons), axis = None)\n",
    "#delta = 0.1\n",
    "const = 24\n",
    "sigma = 0.005\n",
    "ndata =  const * r * t * n * np.log10(n)\n",
    "U = kr_random(n, t, r, rvs='unif')\n",
    "U = kr_rescale(U, np.sqrt(n**t), 'hs')\n",
    "norm_true = np.sqrt(kr_dot(U, U) / n**t)\n",
    "#U = [np.random.randn(n, r) for i in range(t)]\n",
    "print(\"n data: %.2e\" % ndata)\n",
    "print(\"n data ** t/2: %.2e\" % int(const * r * n**(t/2) * np.log10(n)))\n",
    "print(\"true norm: %.2e\" % norm_true)"
   ]
  },
  {
   "cell_type": "code",
   "execution_count": 41,
   "metadata": {},
   "outputs": [
    {
     "name": "stdout",
     "output_type": "stream",
     "text": [
      "75.06169429017908\n",
      "15.588457268119896\n"
     ]
    }
   ],
   "source": [
    "qnorm_true = max_qnorm_ub(U)\n",
    "print(qnorm_true)\n",
    "print(r**(t/2))"
   ]
  },
  {
   "cell_type": "code",
   "execution_count": 42,
   "metadata": {},
   "outputs": [],
   "source": [
    "expander = nx.random_regular_graph(6, n)\n",
    "#expander = nx.chordal_cycle_graph(n)\n",
    "observation_mask = obs_mask_expander(expander, t)\n",
    "#observation_mask = obs_mask_iid(tuple([n for i in range(t)]), ndata * n**(-t))"
   ]
  },
  {
   "cell_type": "code",
   "execution_count": 43,
   "metadata": {},
   "outputs": [
    {
     "name": "stdout",
     "output_type": "stream",
     "text": [
      "38880\n",
      "15952.909550972354\n",
      "24300000\n",
      "1.6e-01%\n"
     ]
    }
   ],
   "source": [
    "from run_sweep_iid import generate_data\n",
    "\n",
    "\n",
    "data = generate_data(observation_mask, U, sigma)\n",
    "clean_data_rmse = np.sqrt(loss(U, data) / data.nnz)\n",
    "print(data.nnz)\n",
    "print(ndata)\n",
    "print(n**t)\n",
    "print(\"%0.1e%%\" % (float(data.nnz) / n**t * 100))"
   ]
  },
  {
   "cell_type": "code",
   "execution_count": 44,
   "metadata": {
    "scrolled": true
   },
   "outputs": [
    {
     "name": "stdout",
     "output_type": "stream",
     "text": [
      "fro:   [71.85212822731744, 71.85212822731744, 71.85212822731744, 71.85212822731744, 71.85212822731744]\n",
      "2-inf: [2.483179533936205, 2.627452577192708, 2.108131154869586, 2.388633652367736, 2.2997527375367492]\n"
     ]
    }
   ],
   "source": [
    "def print_factor_norms(U):\n",
    "    print(\"fro:   \" + str([np.linalg.norm(Ui,'fro')**2 for Ui in U]))\n",
    "    print(\"2-inf: \" + str([np.max(np.linalg.norm(Ui, axis=1)) for Ui in U]))\n",
    "\n",
    "print_factor_norms(kr_balance_factors(U))"
   ]
  },
  {
   "cell_type": "code",
   "execution_count": 45,
   "metadata": {},
   "outputs": [
    {
     "name": "stdout",
     "output_type": "stream",
     "text": [
      "rms of data:        0.004982\n",
      "delta parameter:    0.007500\n",
      "rmse of U true:     0.004982\n"
     ]
    }
   ],
   "source": [
    "delta = 1.5 * sigma\n",
    "#np.sqrt(np.sum((data.data - clean_data)**2)) * 2 / np.sqrt(data.nnz) * 1.5\n",
    "\n",
    "print(\"rms of data:        %f\" % clean_data_rmse)\n",
    "print(\"delta parameter:    %f\" % delta)\n",
    "print(\"rmse of U true:     %f\" % np.sqrt(loss(U, data) / data.nnz))"
   ]
  },
  {
   "cell_type": "code",
   "execution_count": 46,
   "metadata": {},
   "outputs": [],
   "source": [
    "#Uinit = kr_rescale(Unew1, np.sqrt(np.product(data.shape) * data.sum() ** 2 / data.nnz), 'hs')\n",
    "# Uinit = kr_balance_factors(Unew1)"
   ]
  },
  {
   "cell_type": "code",
   "execution_count": null,
   "metadata": {
    "scrolled": true
   },
   "outputs": [
    {
     "name": "stdout",
     "output_type": "stream",
     "text": [
      "[0.0e+00 1.0e-06 1.0e-05 1.0e-04 1.0e-03 2.5e-03]\n",
      "0.005\n",
      "delta =  0.0\n",
      "Initial cost: 1.967e+06\n",
      "Initial qnorm_ub: 8.932e+03\n",
      "|| r || = 1.004e+00, delta = 0.000e+00\n",
      "\n",
      "=============================\n",
      "Iteration 0 complete\n",
      "\n",
      "\n",
      "scaled || r || = 2.949e-01, delta = 0.000e+00\n",
      "Max-qnorm upper bound: 3.071e+05\n",
      "Cost function:         4.763e+05\n",
      "\n",
      "=============================\n",
      "\n",
      "\n",
      "=============================\n",
      "Iteration 1 complete\n",
      "\n",
      "\n",
      "scaled || r || = 1.281e-01, delta = 0.000e+00\n",
      "Max-qnorm upper bound: 1.827e+05\n",
      "Cost function:         2.147e+05\n",
      "\n",
      "=============================\n",
      "\n",
      "\n",
      "=============================\n",
      "Iteration 2 complete\n",
      "\n",
      "\n",
      "scaled || r || = 9.416e-02, delta = 0.000e+00\n",
      "Max-qnorm upper bound: 1.408e+05\n",
      "Cost function:         1.581e+05\n",
      "\n",
      "=============================\n",
      "\n",
      "\n",
      "=============================\n",
      "Iteration 3 complete\n",
      "\n",
      "\n",
      "scaled || r || = 7.931e-02, delta = 0.000e+00\n",
      "Max-qnorm upper bound: 1.157e+05\n",
      "Cost function:         1.280e+05\n",
      "\n",
      "=============================\n",
      "\n",
      "\n",
      "=============================\n",
      "Iteration 4 complete\n",
      "\n",
      "\n",
      "scaled || r || = 6.978e-02, delta = 0.000e+00\n",
      "Max-qnorm upper bound: 9.791e+04\n",
      "Cost function:         1.074e+05\n",
      "\n",
      "=============================\n",
      "\n"
     ]
    }
   ],
   "source": [
    "%autoreload\n",
    "Unew2_list = []\n",
    "cost_arr_list = []\n",
    "deltas = np.array([0, 1e-6, 1e-5, 1e-4, 1e-3, 2.5e-3])\n",
    "eps = 1e-2\n",
    "print(deltas)\n",
    "print(sigma)\n",
    "# sigma = deltas[-1] * np.sqrt(data.nnz)\n",
    "for delta in deltas:\n",
    "    print(\"delta = \", delta)\n",
    "    Unew2, cost_arr = tensor_completion_maxnorm(data, 4 * r**t, delta, epsilon=eps,\n",
    "#                                                 sgd=True, sgd_batch_size=2500,\n",
    "                                                #U0 = kr_balance_factors(Unew1),\n",
    "                                                init='svdrand',\n",
    "                                                kappa=100, beta=1, \n",
    "                                                tol=1e-10, inner_tol=1e-12, max_iter=300, inner_max_iter=10, \n",
    "                                                verbosity=1, inner_line_iter=40,\n",
    "                                                rebalance=True)\n",
    "    Unew2_list.append(Unew2)\n",
    "    cost_arr_list.append(cost_arr)\n"
   ]
  },
  {
   "cell_type": "code",
   "execution_count": null,
   "metadata": {},
   "outputs": [],
   "source": [
    "qnorm_max = max_qnorm_ub(Unew2)\n",
    "print(qnorm_max)"
   ]
  },
  {
   "cell_type": "code",
   "execution_count": null,
   "metadata": {},
   "outputs": [],
   "source": [
    "expander_eigs = np.abs(nx.linalg.adjacency_spectrum(expander))\n",
    "expander_eigs.sort()\n",
    "print(expander_eigs[-10:])"
   ]
  },
  {
   "cell_type": "code",
   "execution_count": null,
   "metadata": {},
   "outputs": [],
   "source": [
    "bound = 2**(2*t-4) * 1.8**(t-1) * (qnorm_max + qnorm_true)**2 * ((1 + expander_eigs[-2]/expander_eigs[-1])**(t-1) - 1)\n",
    "print(bound)\n",
    "print(bound / n**t)"
   ]
  },
  {
   "cell_type": "code",
   "execution_count": null,
   "metadata": {},
   "outputs": [],
   "source": [
    "for i in range(len(Unew2_list)):\n",
    "    print(\"delta = {}\".format(deltas[i]))\n",
    "    print(\"loss of U true:     %.3e\" % np.sqrt(loss(U, data) / data.nnz))\n",
    "    print(\"loss of U max:      %.3e\\n\" % np.sqrt(loss(Unew2_list[i], data) / data.nnz))"
   ]
  },
  {
   "cell_type": "code",
   "execution_count": null,
   "metadata": {},
   "outputs": [],
   "source": [
    "import matplotlib.pyplot as plt\n",
    "\n",
    "plt.semilogy(cost_arr_list[0])\n",
    "plt.semilogy(cost_arr_list[1])\n",
    "plt.semilogy(cost_arr_list[2])\n",
    "plt.semilogy(cost_arr_list[3])\n",
    "plt.semilogy(cost_arr_list[4])\n",
    "\n",
    "plt.legend([\"delta = 0\", \"delta = 1e-6\", \"delta = 1e-5\", \"delta = 1e-4\", \"delta = 1e-3\", \"delta = 2.5e-3\"])\n",
    "plt.xlabel('iterate')\n",
    "plt.ylabel('cost')\n",
    "plt.title(\"Cost-Curve for Various Delta Parameters, Sigma = 0.005\")\n",
    "plt.savefig('Cost-Curve-Delta.png')"
   ]
  },
  {
   "cell_type": "markdown",
   "metadata": {},
   "source": [
    "## Generalization error"
   ]
  },
  {
   "cell_type": "code",
   "execution_count": null,
   "metadata": {},
   "outputs": [],
   "source": [
    "def gen_err(Upred, Utrue):\n",
    "    norm_true = kr_dot(Utrue, Utrue)\n",
    "    mse_gen = kr_dot(Upred, Upred) + norm_true - 2 * kr_dot(Upred, Utrue)\n",
    "    return np.sqrt(mse_gen / norm_true)\n",
    "\n",
    "def mse_gen_err(Upred, Utrue):\n",
    "    norm_true = kr_dot(Utrue, Utrue)\n",
    "    mse_gen = kr_dot(Upred, Upred) + norm_true - 2 * kr_dot(Upred, Utrue)\n",
    "    return np.sqrt(mse_gen / Upred[0].shape[0] ** len(Upred))\n",
    "\n",
    "\n",
    "for i in range(len(Unew2_list)):\n",
    "    print(\"delta = {}\".format(deltas[i]))\n",
    "    print(\"relative RMSE max:      %1.4e\" % gen_err(Unew2_list[i], U))\n",
    "    print(\"MSE max:                %1.4e\\n\" % mse_gen_err(Unew2_list[i], U))"
   ]
  },
  {
   "cell_type": "code",
   "execution_count": null,
   "metadata": {},
   "outputs": [],
   "source": [
    "from mpl_toolkits.axes_grid1 import make_axes_locatable\n",
    "\n",
    "fig, axs = plt.subplots(1,t, figsize=(6, 20))\n",
    "for i in range(t):\n",
    "    im = axs[i].imshow(Unew2[i])\n",
    "    divider = make_axes_locatable(axs[i])\n",
    "    cax = divider.append_axes('right', size='5%', pad=0.05)\n",
    "    fig.colorbar(im, cax=cax, orientation='vertical')\n",
    "    if i > 0:\n",
    "        axs[i].set_yticks([])"
   ]
  },
  {
   "cell_type": "code",
   "execution_count": null,
   "metadata": {},
   "outputs": [],
   "source": [
    "from mpl_toolkits.axes_grid1 import make_axes_locatable\n",
    "\n",
    "fig, axs = plt.subplots(1,t, figsize=(6, 20))\n",
    "for i in range(t):\n",
    "    im = axs[i].imshow(U[i])\n",
    "    divider = make_axes_locatable(axs[i])\n",
    "    cax = divider.append_axes('right', size='5%', pad=0.05)\n",
    "    fig.colorbar(im, cax=cax, orientation='vertical')\n",
    "    if i > 0:\n",
    "        axs[i].set_yticks([])"
   ]
  },
  {
   "cell_type": "code",
   "execution_count": null,
   "metadata": {},
   "outputs": [],
   "source": []
  },
  {
   "cell_type": "code",
   "execution_count": null,
   "metadata": {},
   "outputs": [],
   "source": []
  }
 ],
 "metadata": {
  "kernelspec": {
   "display_name": "Python 3 (ipykernel)",
   "language": "python",
   "name": "python3"
  },
  "language_info": {
   "codemirror_mode": {
    "name": "ipython",
    "version": 3
   },
   "file_extension": ".py",
   "mimetype": "text/x-python",
   "name": "python",
   "nbconvert_exporter": "python",
   "pygments_lexer": "ipython3",
   "version": "3.9.7"
  }
 },
 "nbformat": 4,
 "nbformat_minor": 4
}
